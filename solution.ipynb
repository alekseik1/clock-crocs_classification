{
 "cells": [
  {
   "cell_type": "markdown",
   "metadata": {},
   "source": [
    "# Задача"
   ]
  },
  {
   "cell_type": "markdown",
   "metadata": {},
   "source": [
    "По заданной выборке изображений составить бинарный классификатор, имеющий две категории: __Крокодилы__ и __Часы__"
   ]
  },
  {
   "cell_type": "markdown",
   "metadata": {},
   "source": [
    "# Решения"
   ]
  },
  {
   "cell_type": "markdown",
   "metadata": {},
   "source": [
    "Будем пробовать несколько моделей"
   ]
  },
  {
   "cell_type": "code",
   "execution_count": 1,
   "metadata": {},
   "outputs": [],
   "source": [
    "import numpy as np\n",
    "import matplotlib.pyplot as plt\n",
    "import seaborn as sns\n",
    "import pandas as pd\n",
    "import cv2\n",
    "import os\n",
    "from sklearn.linear_model import LogisticRegression, SGDClassifier\n",
    "from sklearn.ensemble import RandomForestClassifier\n",
    "from sklearn.model_selection import cross_val_score, StratifiedShuffleSplit, train_test_split, GridSearchCV"
   ]
  },
  {
   "cell_type": "markdown",
   "metadata": {},
   "source": [
    "Считаем данные"
   ]
  },
  {
   "cell_type": "code",
   "execution_count": 2,
   "metadata": {},
   "outputs": [
    {
     "data": {
      "text/plain": [
       "\"\\nfor i in os.listdir(CROC_PATH):\\n    if DEBUG: print('Reading image `{}`'.format(i))\\n    arr = cv2.imread(CROC_PATH + i)\\n    croc_dict[i.replace('.png', '')] = arr\\n    croc_data = np.append(croc_data, arr)\\nfor i in os.listdir(CLOCK_PATH):\\n    arr = cv2.imread(CLOCK_PATH + i)\\n    clock_dict[i.replace('.png', '')] = arr\\n    np.append(croc_data, arr)\\n\""
      ]
     },
     "execution_count": 2,
     "metadata": {},
     "output_type": "execute_result"
    }
   ],
   "source": [
    "CROC_PATH = 'data/crocodile/'\n",
    "CLOCK_PATH = 'data/clock/'\n",
    "DEBUG = False\n",
    "croc_dict = dict()\n",
    "clock_dict = dict()\n",
    "croc_data = np.array([cv2.imread(CROC_PATH + i) for i in os.listdir(CROC_PATH)])\n",
    "clock_data = np.array([cv2.imread(CLOCK_PATH + i) for i in os.listdir(CLOCK_PATH)])\n",
    "'''\n",
    "for i in os.listdir(CROC_PATH):\n",
    "    if DEBUG: print('Reading image `{}`'.format(i))\n",
    "    arr = cv2.imread(CROC_PATH + i)\n",
    "    croc_dict[i.replace('.png', '')] = arr\n",
    "    croc_data = np.append(croc_data, arr)\n",
    "for i in os.listdir(CLOCK_PATH):\n",
    "    arr = cv2.imread(CLOCK_PATH + i)\n",
    "    clock_dict[i.replace('.png', '')] = arr\n",
    "    np.append(croc_data, arr)\n",
    "'''"
   ]
  },
  {
   "cell_type": "markdown",
   "metadata": {},
   "source": [
    "Построим простые модели и оценим их качество."
   ]
  },
  {
   "cell_type": "markdown",
   "metadata": {},
   "source": [
    "### Линейная модель (можно пропустить при выполнении кода)"
   ]
  },
  {
   "cell_type": "code",
   "execution_count": 3,
   "metadata": {},
   "outputs": [],
   "source": [
    "ans = np.concatenate((np.ones(clock_data.shape[0]), np.zeros(croc_data.shape[0])))\n",
    "data = np.concatenate((clock_data.reshape(clock_data.shape[0], -1), croc_data.reshape(croc_data.shape[0], -1)))\n",
    "train_data, test_data, train_labels, test_labels = train_test_split(data, ans, test_size=0.3, random_state=0)\n",
    "cv = StratifiedShuffleSplit(n_splits=10, random_state=0)"
   ]
  },
  {
   "cell_type": "code",
   "execution_count": 4,
   "metadata": {},
   "outputs": [
    {
     "name": "stdout",
     "output_type": "stream",
     "text": [
      "CPU times: user 1.76 s, sys: 96.4 ms, total: 1.86 s\n",
      "Wall time: 58.3 s\n"
     ]
    },
    {
     "data": {
      "text/plain": [
       "GridSearchCV(cv=StratifiedShuffleSplit(n_splits=10, random_state=0, test_size='default',\n",
       "            train_size=None),\n",
       "       error_score='raise',\n",
       "       estimator=LogisticRegression(C=1.0, class_weight=None, dual=False, fit_intercept=True,\n",
       "          intercept_scaling=1, max_iter=100, multi_class='ovr', n_jobs=1,\n",
       "          penalty='l2', random_state=0, solver='liblinear', tol=0.0001,\n",
       "          verbose=0, warm_start=False),\n",
       "       fit_params=None, iid=True, n_jobs=4,\n",
       "       param_grid={'penalty': ['l1', 'l2'], 'C': [1, 10, 100]},\n",
       "       pre_dispatch='2*n_jobs', refit=True, return_train_score='warn',\n",
       "       scoring='accuracy', verbose=0)"
      ]
     },
     "execution_count": 4,
     "metadata": {},
     "output_type": "execute_result"
    }
   ],
   "source": [
    "reg = LogisticRegression(random_state=0)\n",
    "param_grid = {'penalty': ['l1', 'l2'], 'C': [1, 10, 100]}\n",
    "grid_cv = GridSearchCV(reg, param_grid, scoring='accuracy', cv=cv, n_jobs=4)\n",
    "%time grid_cv.fit(train_data, train_labels)"
   ]
  },
  {
   "cell_type": "code",
   "execution_count": 5,
   "metadata": {},
   "outputs": [
    {
     "data": {
      "text/plain": [
       "LogisticRegression(C=100, class_weight=None, dual=False, fit_intercept=True,\n",
       "          intercept_scaling=1, max_iter=100, multi_class='ovr', n_jobs=1,\n",
       "          penalty='l1', random_state=0, solver='liblinear', tol=0.0001,\n",
       "          verbose=0, warm_start=False)"
      ]
     },
     "execution_count": 5,
     "metadata": {},
     "output_type": "execute_result"
    }
   ],
   "source": [
    "grid_cv.best_estimator_"
   ]
  },
  {
   "cell_type": "code",
   "execution_count": 6,
   "metadata": {},
   "outputs": [
    {
     "data": {
      "text/plain": [
       "0.7057142857142857"
      ]
     },
     "execution_count": 6,
     "metadata": {},
     "output_type": "execute_result"
    }
   ],
   "source": [
    "grid_cv.best_score_"
   ]
  },
  {
   "cell_type": "markdown",
   "metadata": {},
   "source": [
    "Результаты не очень."
   ]
  },
  {
   "cell_type": "markdown",
   "metadata": {},
   "source": [
    "### Случайный лес (можно пропустить)"
   ]
  },
  {
   "cell_type": "code",
   "execution_count": 7,
   "metadata": {},
   "outputs": [
    {
     "name": "stdout",
     "output_type": "stream",
     "text": [
      "CPU times: user 23.3 s, sys: 63.1 ms, total: 23.3 s\n",
      "Wall time: 1min 2s\n"
     ]
    },
    {
     "data": {
      "text/plain": [
       "GridSearchCV(cv=StratifiedShuffleSplit(n_splits=10, random_state=0, test_size='default',\n",
       "            train_size=None),\n",
       "       error_score='raise',\n",
       "       estimator=RandomForestClassifier(bootstrap=True, class_weight=None, criterion='gini',\n",
       "            max_depth=None, max_features='auto', max_leaf_nodes=None,\n",
       "            min_impurity_decrease=0.0, min_impurity_split=None,\n",
       "            min_samples_leaf=1, min_samples_split=2,\n",
       "            min_weight_fraction_leaf=0.0, n_estimators=10, n_jobs=4,\n",
       "            oob_score=False, random_state=0, verbose=0, warm_start=False),\n",
       "       fit_params=None, iid=True, n_jobs=4,\n",
       "       param_grid={'n_estimators': [600], 'max_depth': [30], 'criterion': ['entropy']},\n",
       "       pre_dispatch='2*n_jobs', refit=True, return_train_score='warn',\n",
       "       scoring='accuracy', verbose=0)"
      ]
     },
     "execution_count": 7,
     "metadata": {},
     "output_type": "execute_result"
    }
   ],
   "source": [
    "reg = RandomForestClassifier(random_state=0, n_jobs=4)\n",
    "param_grid = {'n_estimators': [600],\n",
    "              'max_depth': [30], 'criterion': ['entropy']}\n",
    "grid_cv = GridSearchCV(reg, param_grid, scoring='accuracy', cv=cv, n_jobs=4)\n",
    "%time grid_cv.fit(train_data, train_labels)"
   ]
  },
  {
   "cell_type": "code",
   "execution_count": 8,
   "metadata": {},
   "outputs": [
    {
     "data": {
      "text/plain": [
       "RandomForestClassifier(bootstrap=True, class_weight=None, criterion='entropy',\n",
       "            max_depth=30, max_features='auto', max_leaf_nodes=None,\n",
       "            min_impurity_decrease=0.0, min_impurity_split=None,\n",
       "            min_samples_leaf=1, min_samples_split=2,\n",
       "            min_weight_fraction_leaf=0.0, n_estimators=600, n_jobs=4,\n",
       "            oob_score=False, random_state=0, verbose=0, warm_start=False)"
      ]
     },
     "execution_count": 8,
     "metadata": {},
     "output_type": "execute_result"
    }
   ],
   "source": [
    "grid_cv.best_estimator_"
   ]
  },
  {
   "cell_type": "code",
   "execution_count": 9,
   "metadata": {
    "scrolled": true
   },
   "outputs": [
    {
     "data": {
      "text/plain": [
       "0.8242857142857143"
      ]
     },
     "execution_count": 9,
     "metadata": {},
     "output_type": "execute_result"
    }
   ],
   "source": [
    "grid_cv.best_score_"
   ]
  },
  {
   "cell_type": "markdown",
   "metadata": {},
   "source": [
    "### Градиентный бустинг над случайными лесами (тоже можно пропустить)"
   ]
  },
  {
   "cell_type": "code",
   "execution_count": 13,
   "metadata": {},
   "outputs": [],
   "source": [
    "import xgboost as xgb"
   ]
  },
  {
   "cell_type": "code",
   "execution_count": 14,
   "metadata": {},
   "outputs": [
    {
     "name": "stderr",
     "output_type": "stream",
     "text": [
      "/usr/lib/python3.6/site-packages/sklearn/preprocessing/label.py:151: DeprecationWarning: The truth value of an empty array is ambiguous. Returning False, but in future this will result in an error. Use `array.size > 0` to check that an array is not empty.\n",
      "  if diff:\n",
      "/usr/lib/python3.6/site-packages/sklearn/preprocessing/label.py:151: DeprecationWarning: The truth value of an empty array is ambiguous. Returning False, but in future this will result in an error. Use `array.size > 0` to check that an array is not empty.\n",
      "  if diff:\n",
      "/usr/lib/python3.6/site-packages/sklearn/preprocessing/label.py:151: DeprecationWarning: The truth value of an empty array is ambiguous. Returning False, but in future this will result in an error. Use `array.size > 0` to check that an array is not empty.\n",
      "  if diff:\n",
      "/usr/lib/python3.6/site-packages/sklearn/preprocessing/label.py:151: DeprecationWarning: The truth value of an empty array is ambiguous. Returning False, but in future this will result in an error. Use `array.size > 0` to check that an array is not empty.\n",
      "  if diff:\n",
      "/usr/lib/python3.6/site-packages/sklearn/preprocessing/label.py:151: DeprecationWarning: The truth value of an empty array is ambiguous. Returning False, but in future this will result in an error. Use `array.size > 0` to check that an array is not empty.\n",
      "  if diff:\n",
      "/usr/lib/python3.6/site-packages/sklearn/preprocessing/label.py:151: DeprecationWarning: The truth value of an empty array is ambiguous. Returning False, but in future this will result in an error. Use `array.size > 0` to check that an array is not empty.\n",
      "  if diff:\n",
      "/usr/lib/python3.6/site-packages/sklearn/preprocessing/label.py:151: DeprecationWarning: The truth value of an empty array is ambiguous. Returning False, but in future this will result in an error. Use `array.size > 0` to check that an array is not empty.\n",
      "  if diff:\n",
      "/usr/lib/python3.6/site-packages/sklearn/preprocessing/label.py:151: DeprecationWarning: The truth value of an empty array is ambiguous. Returning False, but in future this will result in an error. Use `array.size > 0` to check that an array is not empty.\n",
      "  if diff:\n",
      "/usr/lib/python3.6/site-packages/sklearn/preprocessing/label.py:151: DeprecationWarning: The truth value of an empty array is ambiguous. Returning False, but in future this will result in an error. Use `array.size > 0` to check that an array is not empty.\n",
      "  if diff:\n",
      "/usr/lib/python3.6/site-packages/sklearn/preprocessing/label.py:151: DeprecationWarning: The truth value of an empty array is ambiguous. Returning False, but in future this will result in an error. Use `array.size > 0` to check that an array is not empty.\n",
      "  if diff:\n",
      "/usr/lib/python3.6/site-packages/sklearn/preprocessing/label.py:151: DeprecationWarning: The truth value of an empty array is ambiguous. Returning False, but in future this will result in an error. Use `array.size > 0` to check that an array is not empty.\n",
      "  if diff:\n",
      "/usr/lib/python3.6/site-packages/sklearn/preprocessing/label.py:151: DeprecationWarning: The truth value of an empty array is ambiguous. Returning False, but in future this will result in an error. Use `array.size > 0` to check that an array is not empty.\n",
      "  if diff:\n",
      "/usr/lib/python3.6/site-packages/sklearn/preprocessing/label.py:151: DeprecationWarning: The truth value of an empty array is ambiguous. Returning False, but in future this will result in an error. Use `array.size > 0` to check that an array is not empty.\n",
      "  if diff:\n",
      "/usr/lib/python3.6/site-packages/sklearn/preprocessing/label.py:151: DeprecationWarning: The truth value of an empty array is ambiguous. Returning False, but in future this will result in an error. Use `array.size > 0` to check that an array is not empty.\n",
      "  if diff:\n",
      "/usr/lib/python3.6/site-packages/sklearn/preprocessing/label.py:151: DeprecationWarning: The truth value of an empty array is ambiguous. Returning False, but in future this will result in an error. Use `array.size > 0` to check that an array is not empty.\n",
      "  if diff:\n",
      "/usr/lib/python3.6/site-packages/sklearn/preprocessing/label.py:151: DeprecationWarning: The truth value of an empty array is ambiguous. Returning False, but in future this will result in an error. Use `array.size > 0` to check that an array is not empty.\n",
      "  if diff:\n",
      "/usr/lib/python3.6/site-packages/sklearn/preprocessing/label.py:151: DeprecationWarning: The truth value of an empty array is ambiguous. Returning False, but in future this will result in an error. Use `array.size > 0` to check that an array is not empty.\n",
      "  if diff:\n",
      "/usr/lib/python3.6/site-packages/sklearn/preprocessing/label.py:151: DeprecationWarning: The truth value of an empty array is ambiguous. Returning False, but in future this will result in an error. Use `array.size > 0` to check that an array is not empty.\n",
      "  if diff:\n",
      "/usr/lib/python3.6/site-packages/sklearn/preprocessing/label.py:151: DeprecationWarning: The truth value of an empty array is ambiguous. Returning False, but in future this will result in an error. Use `array.size > 0` to check that an array is not empty.\n",
      "  if diff:\n",
      "/usr/lib/python3.6/site-packages/sklearn/preprocessing/label.py:151: DeprecationWarning: The truth value of an empty array is ambiguous. Returning False, but in future this will result in an error. Use `array.size > 0` to check that an array is not empty.\n",
      "  if diff:\n"
     ]
    },
    {
     "name": "stdout",
     "output_type": "stream",
     "text": [
      "CPU times: user 1min 6s, sys: 182 ms, total: 1min 6s\n",
      "Wall time: 10min 31s\n"
     ]
    },
    {
     "data": {
      "text/plain": [
       "GridSearchCV(cv=StratifiedShuffleSplit(n_splits=10, random_state=0, test_size='default',\n",
       "            train_size=None),\n",
       "       error_score='raise',\n",
       "       estimator=XGBClassifier(base_score=0.5, booster='gbtree', colsample_bylevel=1,\n",
       "       colsample_bytree=1, gamma=0, learning_rate=0.005, max_delta_step=0,\n",
       "       max_depth=3, min_child_weight=1, missing=None, n_estimators=300,\n",
       "       n_jobs=4, nthread=None, objective='binary:logistic', random_state=0,\n",
       "       reg_alpha=0, reg_lambda=1, scale_pos_weight=1, seed=None,\n",
       "       silent=True, subsample=1),\n",
       "       fit_params=None, iid=True, n_jobs=4,\n",
       "       param_grid={'n_estimators': [400], 'learning_rate': [0.005]},\n",
       "       pre_dispatch='2*n_jobs', refit=True, return_train_score='warn',\n",
       "       scoring='accuracy', verbose=0)"
      ]
     },
     "execution_count": 14,
     "metadata": {},
     "output_type": "execute_result"
    }
   ],
   "source": [
    "reg = xgb.XGBClassifier(random_state=0, learning_rate=0.005, n_jobs=4, n_estimators=300)\n",
    "#param_grid = {'n_estimators': [100, 200, 400, 600],\n",
    "#              'learning_rate': [0.001, 0.005, 0.1]}\n",
    "param_grid = {'n_estimators': [400],\n",
    "              'learning_rate': [0.005]}\n",
    "grid_cv = GridSearchCV(reg, param_grid, scoring='accuracy', cv=cv, n_jobs=4)\n",
    "%time grid_cv.fit(train_data, train_labels)"
   ]
  },
  {
   "cell_type": "code",
   "execution_count": 15,
   "metadata": {},
   "outputs": [
    {
     "data": {
      "text/plain": [
       "XGBClassifier(base_score=0.5, booster='gbtree', colsample_bylevel=1,\n",
       "       colsample_bytree=1, gamma=0, learning_rate=0.005, max_delta_step=0,\n",
       "       max_depth=3, min_child_weight=1, missing=None, n_estimators=300,\n",
       "       n_jobs=4, nthread=None, objective='binary:logistic', random_state=0,\n",
       "       reg_alpha=0, reg_lambda=1, scale_pos_weight=1, seed=None,\n",
       "       silent=True, subsample=1)"
      ]
     },
     "execution_count": 15,
     "metadata": {},
     "output_type": "execute_result"
    }
   ],
   "source": [
    "reg.fit(train_data, train_labels)"
   ]
  },
  {
   "cell_type": "code",
   "execution_count": 16,
   "metadata": {},
   "outputs": [
    {
     "name": "stderr",
     "output_type": "stream",
     "text": [
      "/usr/lib/python3.6/site-packages/sklearn/preprocessing/label.py:151: DeprecationWarning: The truth value of an empty array is ambiguous. Returning False, but in future this will result in an error. Use `array.size > 0` to check that an array is not empty.\n",
      "  if diff:\n",
      "/usr/lib/python3.6/site-packages/sklearn/preprocessing/label.py:151: DeprecationWarning: The truth value of an empty array is ambiguous. Returning False, but in future this will result in an error. Use `array.size > 0` to check that an array is not empty.\n",
      "  if diff:\n",
      "/usr/lib/python3.6/site-packages/sklearn/preprocessing/label.py:151: DeprecationWarning: The truth value of an empty array is ambiguous. Returning False, but in future this will result in an error. Use `array.size > 0` to check that an array is not empty.\n",
      "  if diff:\n"
     ]
    },
    {
     "data": {
      "text/plain": [
       "array([0.76, 0.77, 0.81])"
      ]
     },
     "execution_count": 16,
     "metadata": {},
     "output_type": "execute_result"
    }
   ],
   "source": [
    "cross_val_score(reg, test_data, test_labels)"
   ]
  },
  {
   "cell_type": "markdown",
   "metadata": {},
   "source": [
    "## А теперь изюминка нашего проекта: CNN"
   ]
  },
  {
   "cell_type": "code",
   "execution_count": 17,
   "metadata": {
    "scrolled": true
   },
   "outputs": [
    {
     "name": "stderr",
     "output_type": "stream",
     "text": [
      "/usr/lib/python3.6/site-packages/h5py/__init__.py:36: FutureWarning: Conversion of the second argument of issubdtype from `float` to `np.floating` is deprecated. In future, it will be treated as `np.float64 == np.dtype(float).type`.\n",
      "  from ._conv import register_converters as _register_converters\n",
      "Using TensorFlow backend.\n"
     ]
    }
   ],
   "source": [
    "from keras.models import Model\n",
    "from keras.layers import Input, Convolution2D, MaxPooling2D, Dense, Dropout, Flatten\n",
    "from keras.utils import np_utils"
   ]
  },
  {
   "cell_type": "code",
   "execution_count": 18,
   "metadata": {
    "scrolled": true
   },
   "outputs": [],
   "source": [
    "ans = np.concatenate((np.ones(clock_data.shape[0]), np.zeros(croc_data.shape[0])))\n",
    "data = np.concatenate((clock_data, croc_data))\n",
    "train_data, test_data, train_labels, test_labels = train_test_split(data, ans, test_size=0.2, random_state=42)\n",
    "#cv = StratifiedShuffleSplit(n_splits=10, random_state=0)"
   ]
  },
  {
   "cell_type": "code",
   "execution_count": 19,
   "metadata": {},
   "outputs": [
    {
     "data": {
      "text/plain": [
       "(800, 32, 32, 3)"
      ]
     },
     "execution_count": 19,
     "metadata": {},
     "output_type": "execute_result"
    }
   ],
   "source": [
    "train_data.shape"
   ]
  },
  {
   "cell_type": "code",
   "execution_count": 29,
   "metadata": {},
   "outputs": [],
   "source": [
    "# Параметры модели. С ними надо будет поиграться\n",
    "batch_size = 21\n",
    "num_epochs = 91\n",
    "kernel_size = 3\n",
    "pool_size = 2\n",
    "conv_depth_1 = 32\n",
    "conv_depth_2 = 32\n",
    "drop_prob_1 = 0.3\n",
    "drop_prob_2 = 0.4\n",
    "hidden_size = 128"
   ]
  },
  {
   "cell_type": "code",
   "execution_count": 30,
   "metadata": {},
   "outputs": [],
   "source": [
    "num_train, depth, height, width = train_data.shape\n",
    "num_test = test_data.shape[0]\n",
    "num_classes = np.unique(train_labels).shape[0]"
   ]
  },
  {
   "cell_type": "code",
   "execution_count": 31,
   "metadata": {},
   "outputs": [],
   "source": [
    "train_data = train_data.astype('float32')\n",
    "test_data = test_data.astype('float32')\n",
    "train_data /= np.max(train_data)\n",
    "test_data /= np.max(test_data)"
   ]
  },
  {
   "cell_type": "code",
   "execution_count": 32,
   "metadata": {},
   "outputs": [],
   "source": [
    "Y_train = np_utils.to_categorical(train_labels, num_classes)\n",
    "Y_test = np_utils.to_categorical(test_labels, num_classes)"
   ]
  },
  {
   "cell_type": "code",
   "execution_count": 33,
   "metadata": {},
   "outputs": [],
   "source": [
    "inp = Input(shape=(depth, height, width))\n",
    "\n",
    "# Conv [32] -> Conv [32] -> Pool (with dropout on the pooling layer)\n",
    "conv_1 = Convolution2D(conv_depth_1, (kernel_size, kernel_size), padding='same', activation='relu')(inp)\n",
    "#conv_2 = Convolution2D(conv_depth_1, (kernel_size, kernel_size), padding='same', activation='relu')(conv_1)\n",
    "pool_1 = MaxPooling2D(pool_size=(pool_size, pool_size))(conv_1)\n",
    "drop_1 = Dropout(drop_prob_1)(pool_1)\n",
    "\n",
    "# Conv [64] -> Conv [64] -> Pool (with dropout on the pooling layer)\n",
    "conv_3 = Convolution2D(conv_depth_2, (kernel_size, kernel_size), padding='same', activation='relu')(drop_1)\n",
    "#conv_4 = Convolution2D(conv_depth_2, (kernel_size, kernel_size), padding='same', activation='relu')(conv_3)\n",
    "pool_2 = MaxPooling2D(pool_size=(pool_size, pool_size))(conv_3)\n",
    "drop_2 = Dropout(drop_prob_2)(pool_2)\n",
    "\n",
    "# Now flatten to 1D, apply FC -> ReLU (with dropout) -> softmax\n",
    "flat = Flatten()(drop_2)\n",
    "hidden = Dense(hidden_size, activation='relu')(flat)\n",
    "drop_3 = Dropout(drop_prob_2)(hidden)\n",
    "out = Dense(num_classes, activation='softmax')(drop_3)"
   ]
  },
  {
   "cell_type": "code",
   "execution_count": 34,
   "metadata": {},
   "outputs": [
    {
     "name": "stderr",
     "output_type": "stream",
     "text": [
      "/usr/lib/python3.6/site-packages/ipykernel_launcher.py:1: UserWarning: Update your `Model` call to the Keras 2 API: `Model(inputs=Tensor(\"in..., outputs=Tensor(\"de...)`\n",
      "  \"\"\"Entry point for launching an IPython kernel.\n"
     ]
    }
   ],
   "source": [
    "model = Model(input=inp, output=out)"
   ]
  },
  {
   "cell_type": "code",
   "execution_count": 35,
   "metadata": {},
   "outputs": [],
   "source": [
    "model.compile(loss='categorical_crossentropy', optimizer='adagrad', metrics=['accuracy'])"
   ]
  },
  {
   "cell_type": "code",
   "execution_count": 36,
   "metadata": {},
   "outputs": [
    {
     "name": "stdout",
     "output_type": "stream",
     "text": [
      "Train on 720 samples, validate on 80 samples\n",
      "Epoch 1/91\n",
      "720/720 [==============================] - 1s 2ms/step - loss: 0.7510 - acc: 0.5292 - val_loss: 0.6731 - val_acc: 0.6625\n",
      "Epoch 2/91\n",
      "720/720 [==============================] - 1s 2ms/step - loss: 0.6333 - acc: 0.6375 - val_loss: 0.5341 - val_acc: 0.7250\n",
      "Epoch 3/91\n",
      "720/720 [==============================] - 1s 2ms/step - loss: 0.6268 - acc: 0.6778 - val_loss: 0.6133 - val_acc: 0.6625\n",
      "Epoch 4/91\n",
      "720/720 [==============================] - 1s 2ms/step - loss: 0.5353 - acc: 0.7472 - val_loss: 0.4864 - val_acc: 0.7500\n",
      "Epoch 5/91\n",
      "720/720 [==============================] - 1s 2ms/step - loss: 0.5037 - acc: 0.7653 - val_loss: 0.5604 - val_acc: 0.6750\n",
      "Epoch 6/91\n",
      "720/720 [==============================] - 1s 2ms/step - loss: 0.4702 - acc: 0.7875 - val_loss: 0.5194 - val_acc: 0.6875\n",
      "Epoch 7/91\n",
      "720/720 [==============================] - 2s 3ms/step - loss: 0.4273 - acc: 0.8181 - val_loss: 0.3366 - val_acc: 0.8625\n",
      "Epoch 8/91\n",
      "720/720 [==============================] - 1s 2ms/step - loss: 0.3504 - acc: 0.8528 - val_loss: 0.3303 - val_acc: 0.8625\n",
      "Epoch 9/91\n",
      "720/720 [==============================] - 1s 2ms/step - loss: 0.3278 - acc: 0.8694 - val_loss: 0.4983 - val_acc: 0.7250\n",
      "Epoch 10/91\n",
      "720/720 [==============================] - 1s 2ms/step - loss: 0.3108 - acc: 0.8667 - val_loss: 0.2924 - val_acc: 0.8875\n",
      "Epoch 11/91\n",
      "720/720 [==============================] - 1s 2ms/step - loss: 0.2732 - acc: 0.8931 - val_loss: 0.5357 - val_acc: 0.7375\n",
      "Epoch 12/91\n",
      "720/720 [==============================] - 1s 2ms/step - loss: 0.2637 - acc: 0.8833 - val_loss: 0.2863 - val_acc: 0.9000\n",
      "Epoch 13/91\n",
      "720/720 [==============================] - 1s 2ms/step - loss: 0.2446 - acc: 0.9042 - val_loss: 0.2486 - val_acc: 0.9000\n",
      "Epoch 14/91\n",
      "720/720 [==============================] - 1s 2ms/step - loss: 0.2513 - acc: 0.9000 - val_loss: 0.2313 - val_acc: 0.9000\n",
      "Epoch 15/91\n",
      "720/720 [==============================] - 2s 2ms/step - loss: 0.2152 - acc: 0.9153 - val_loss: 0.2445 - val_acc: 0.9125\n",
      "Epoch 16/91\n",
      "720/720 [==============================] - 1s 2ms/step - loss: 0.2234 - acc: 0.9125 - val_loss: 0.2866 - val_acc: 0.9125\n",
      "Epoch 17/91\n",
      "720/720 [==============================] - 1s 2ms/step - loss: 0.1828 - acc: 0.9333 - val_loss: 0.2586 - val_acc: 0.9125\n",
      "Epoch 18/91\n",
      "720/720 [==============================] - 1s 2ms/step - loss: 0.1959 - acc: 0.9194 - val_loss: 0.2300 - val_acc: 0.9250\n",
      "Epoch 19/91\n",
      "720/720 [==============================] - 2s 3ms/step - loss: 0.1833 - acc: 0.9319 - val_loss: 0.2518 - val_acc: 0.8875\n",
      "Epoch 20/91\n",
      "720/720 [==============================] - 2s 2ms/step - loss: 0.2290 - acc: 0.9097 - val_loss: 0.4168 - val_acc: 0.7625\n",
      "Epoch 21/91\n",
      "720/720 [==============================] - 2s 3ms/step - loss: 0.1898 - acc: 0.9264 - val_loss: 0.2905 - val_acc: 0.8750\n",
      "Epoch 22/91\n",
      "720/720 [==============================] - 1s 2ms/step - loss: 0.1794 - acc: 0.9306 - val_loss: 0.2021 - val_acc: 0.9125\n",
      "Epoch 23/91\n",
      "720/720 [==============================] - 1s 2ms/step - loss: 0.1530 - acc: 0.9500 - val_loss: 0.2533 - val_acc: 0.8875\n",
      "Epoch 24/91\n",
      "720/720 [==============================] - 2s 2ms/step - loss: 0.1521 - acc: 0.9361 - val_loss: 0.1843 - val_acc: 0.9375\n",
      "Epoch 25/91\n",
      "720/720 [==============================] - 2s 3ms/step - loss: 0.1393 - acc: 0.9417 - val_loss: 0.1667 - val_acc: 0.9375\n",
      "Epoch 26/91\n",
      "720/720 [==============================] - 2s 3ms/step - loss: 0.1527 - acc: 0.9417 - val_loss: 0.1682 - val_acc: 0.9500\n",
      "Epoch 27/91\n",
      "720/720 [==============================] - 2s 3ms/step - loss: 0.1507 - acc: 0.9389 - val_loss: 0.1811 - val_acc: 0.9250\n",
      "Epoch 28/91\n",
      "720/720 [==============================] - 3s 4ms/step - loss: 0.1468 - acc: 0.9500 - val_loss: 0.1922 - val_acc: 0.9125\n",
      "Epoch 29/91\n",
      "720/720 [==============================] - 3s 4ms/step - loss: 0.1172 - acc: 0.9583 - val_loss: 0.1881 - val_acc: 0.9375\n",
      "Epoch 30/91\n",
      "720/720 [==============================] - 2s 3ms/step - loss: 0.1287 - acc: 0.9542 - val_loss: 0.2186 - val_acc: 0.9125\n",
      "Epoch 31/91\n",
      "720/720 [==============================] - 2s 3ms/step - loss: 0.1230 - acc: 0.9556 - val_loss: 0.2088 - val_acc: 0.9125\n",
      "Epoch 32/91\n",
      "720/720 [==============================] - 2s 3ms/step - loss: 0.1277 - acc: 0.9542 - val_loss: 0.1733 - val_acc: 0.9625\n",
      "Epoch 33/91\n",
      "720/720 [==============================] - 3s 4ms/step - loss: 0.1273 - acc: 0.9514 - val_loss: 0.1519 - val_acc: 0.9625\n",
      "Epoch 34/91\n",
      "720/720 [==============================] - 2s 3ms/step - loss: 0.1212 - acc: 0.9458 - val_loss: 0.2131 - val_acc: 0.9125\n",
      "Epoch 35/91\n",
      "720/720 [==============================] - 1s 2ms/step - loss: 0.1253 - acc: 0.9458 - val_loss: 0.1815 - val_acc: 0.9375\n",
      "Epoch 36/91\n",
      "720/720 [==============================] - 1s 2ms/step - loss: 0.1231 - acc: 0.9528 - val_loss: 0.1775 - val_acc: 0.9250\n",
      "Epoch 37/91\n",
      "720/720 [==============================] - 1s 2ms/step - loss: 0.1264 - acc: 0.9542 - val_loss: 0.1637 - val_acc: 0.9500\n",
      "Epoch 38/91\n",
      "720/720 [==============================] - 1s 2ms/step - loss: 0.1224 - acc: 0.9514 - val_loss: 0.1888 - val_acc: 0.9250\n",
      "Epoch 39/91\n",
      "720/720 [==============================] - 1s 2ms/step - loss: 0.0993 - acc: 0.9597 - val_loss: 0.2151 - val_acc: 0.9125\n",
      "Epoch 40/91\n",
      "720/720 [==============================] - 1s 2ms/step - loss: 0.1063 - acc: 0.9625 - val_loss: 0.2573 - val_acc: 0.9000\n",
      "Epoch 41/91\n",
      "720/720 [==============================] - 1s 2ms/step - loss: 0.1035 - acc: 0.9681 - val_loss: 0.2739 - val_acc: 0.8750\n",
      "Epoch 42/91\n",
      "720/720 [==============================] - 1s 2ms/step - loss: 0.0900 - acc: 0.9736 - val_loss: 0.1877 - val_acc: 0.9250\n",
      "Epoch 43/91\n",
      "720/720 [==============================] - 1s 2ms/step - loss: 0.0959 - acc: 0.9639 - val_loss: 0.1612 - val_acc: 0.9500\n",
      "Epoch 44/91\n",
      "720/720 [==============================] - 1s 2ms/step - loss: 0.1046 - acc: 0.9653 - val_loss: 0.1830 - val_acc: 0.9500\n",
      "Epoch 45/91\n",
      "720/720 [==============================] - 1s 2ms/step - loss: 0.0834 - acc: 0.9722 - val_loss: 0.2753 - val_acc: 0.8750\n",
      "Epoch 46/91\n",
      "720/720 [==============================] - 1s 2ms/step - loss: 0.0971 - acc: 0.9625 - val_loss: 0.1931 - val_acc: 0.9375\n",
      "Epoch 47/91\n",
      "720/720 [==============================] - 1s 2ms/step - loss: 0.0925 - acc: 0.9667 - val_loss: 0.2203 - val_acc: 0.9000\n",
      "Epoch 48/91\n",
      "720/720 [==============================] - 1s 2ms/step - loss: 0.0900 - acc: 0.9736 - val_loss: 0.1885 - val_acc: 0.9375\n",
      "Epoch 49/91\n",
      "720/720 [==============================] - 1s 2ms/step - loss: 0.0932 - acc: 0.9639 - val_loss: 0.2037 - val_acc: 0.9125\n",
      "Epoch 50/91\n",
      "720/720 [==============================] - 2s 2ms/step - loss: 0.0883 - acc: 0.9736 - val_loss: 0.2013 - val_acc: 0.9125\n",
      "Epoch 51/91\n",
      "720/720 [==============================] - 1s 2ms/step - loss: 0.0949 - acc: 0.9653 - val_loss: 0.1793 - val_acc: 0.9375\n",
      "Epoch 52/91\n",
      "720/720 [==============================] - 1s 2ms/step - loss: 0.0902 - acc: 0.9708 - val_loss: 0.2218 - val_acc: 0.9125\n",
      "Epoch 53/91\n",
      "720/720 [==============================] - 1s 2ms/step - loss: 0.0666 - acc: 0.9792 - val_loss: 0.1908 - val_acc: 0.9375\n",
      "Epoch 54/91\n",
      "720/720 [==============================] - 1s 2ms/step - loss: 0.0702 - acc: 0.9750 - val_loss: 0.2157 - val_acc: 0.9125\n",
      "Epoch 55/91\n",
      "720/720 [==============================] - 1s 2ms/step - loss: 0.0928 - acc: 0.9611 - val_loss: 0.1767 - val_acc: 0.9500\n",
      "Epoch 56/91\n",
      "720/720 [==============================] - 1s 2ms/step - loss: 0.0744 - acc: 0.9722 - val_loss: 0.3858 - val_acc: 0.8250\n",
      "Epoch 57/91\n",
      "720/720 [==============================] - 1s 2ms/step - loss: 0.0714 - acc: 0.9764 - val_loss: 0.2502 - val_acc: 0.8750\n",
      "Epoch 58/91\n",
      "720/720 [==============================] - 1s 2ms/step - loss: 0.0817 - acc: 0.9653 - val_loss: 0.2459 - val_acc: 0.8750\n",
      "Epoch 59/91\n",
      "720/720 [==============================] - 1s 2ms/step - loss: 0.0689 - acc: 0.9778 - val_loss: 0.1819 - val_acc: 0.9375\n",
      "Epoch 60/91\n",
      "720/720 [==============================] - 1s 2ms/step - loss: 0.0686 - acc: 0.9750 - val_loss: 0.2035 - val_acc: 0.9250\n",
      "Epoch 61/91\n",
      "720/720 [==============================] - 2s 3ms/step - loss: 0.0636 - acc: 0.9806 - val_loss: 0.3019 - val_acc: 0.8875\n",
      "Epoch 62/91\n"
     ]
    },
    {
     "name": "stdout",
     "output_type": "stream",
     "text": [
      "720/720 [==============================] - 2s 2ms/step - loss: 0.0662 - acc: 0.9833 - val_loss: 0.2102 - val_acc: 0.9125\n",
      "Epoch 63/91\n",
      "720/720 [==============================] - 1s 2ms/step - loss: 0.0769 - acc: 0.9708 - val_loss: 0.1821 - val_acc: 0.9375\n",
      "Epoch 64/91\n",
      "720/720 [==============================] - 2s 3ms/step - loss: 0.0776 - acc: 0.9736 - val_loss: 0.2790 - val_acc: 0.8875\n",
      "Epoch 65/91\n",
      "720/720 [==============================] - 2s 2ms/step - loss: 0.0707 - acc: 0.9764 - val_loss: 0.2358 - val_acc: 0.8875\n",
      "Epoch 66/91\n",
      "720/720 [==============================] - 1s 2ms/step - loss: 0.0621 - acc: 0.9778 - val_loss: 0.1835 - val_acc: 0.9375\n",
      "Epoch 67/91\n",
      "720/720 [==============================] - 2s 2ms/step - loss: 0.0631 - acc: 0.9694 - val_loss: 0.2263 - val_acc: 0.9000\n",
      "Epoch 68/91\n",
      "720/720 [==============================] - 1s 2ms/step - loss: 0.0639 - acc: 0.9722 - val_loss: 0.1616 - val_acc: 0.9625\n",
      "Epoch 69/91\n",
      "720/720 [==============================] - 1s 2ms/step - loss: 0.0612 - acc: 0.9764 - val_loss: 0.1973 - val_acc: 0.9250\n",
      "Epoch 70/91\n",
      "720/720 [==============================] - 1s 2ms/step - loss: 0.0594 - acc: 0.9778 - val_loss: 0.1957 - val_acc: 0.9250\n",
      "Epoch 71/91\n",
      "720/720 [==============================] - 1s 2ms/step - loss: 0.0508 - acc: 0.9806 - val_loss: 0.1763 - val_acc: 0.9375\n",
      "Epoch 72/91\n",
      "720/720 [==============================] - 1s 2ms/step - loss: 0.0534 - acc: 0.9764 - val_loss: 0.1879 - val_acc: 0.9375\n",
      "Epoch 73/91\n",
      "720/720 [==============================] - 2s 2ms/step - loss: 0.0571 - acc: 0.9792 - val_loss: 0.2168 - val_acc: 0.9125\n",
      "Epoch 74/91\n",
      "720/720 [==============================] - 2s 2ms/step - loss: 0.0552 - acc: 0.9847 - val_loss: 0.2984 - val_acc: 0.8875\n",
      "Epoch 75/91\n",
      "720/720 [==============================] - 1s 2ms/step - loss: 0.0505 - acc: 0.9847 - val_loss: 0.1709 - val_acc: 0.9625\n",
      "Epoch 76/91\n",
      "720/720 [==============================] - 1s 2ms/step - loss: 0.0619 - acc: 0.9778 - val_loss: 0.1479 - val_acc: 0.9500\n",
      "Epoch 77/91\n",
      "720/720 [==============================] - 1s 2ms/step - loss: 0.0662 - acc: 0.9778 - val_loss: 0.1761 - val_acc: 0.9250\n",
      "Epoch 78/91\n",
      "720/720 [==============================] - 1s 2ms/step - loss: 0.0520 - acc: 0.9847 - val_loss: 0.2087 - val_acc: 0.9125\n",
      "Epoch 79/91\n",
      "720/720 [==============================] - 1s 2ms/step - loss: 0.0536 - acc: 0.9792 - val_loss: 0.1813 - val_acc: 0.9375\n",
      "Epoch 80/91\n",
      "720/720 [==============================] - 1s 2ms/step - loss: 0.0487 - acc: 0.9819 - val_loss: 0.3105 - val_acc: 0.8875\n",
      "Epoch 81/91\n",
      "720/720 [==============================] - 1s 2ms/step - loss: 0.0631 - acc: 0.9778 - val_loss: 0.2326 - val_acc: 0.9125\n",
      "Epoch 82/91\n",
      "720/720 [==============================] - 1s 2ms/step - loss: 0.0585 - acc: 0.9764 - val_loss: 0.2412 - val_acc: 0.9125\n",
      "Epoch 83/91\n",
      "720/720 [==============================] - 1s 2ms/step - loss: 0.0439 - acc: 0.9875 - val_loss: 0.1960 - val_acc: 0.9250\n",
      "Epoch 84/91\n",
      "720/720 [==============================] - 1s 2ms/step - loss: 0.0503 - acc: 0.9806 - val_loss: 0.2049 - val_acc: 0.9250\n",
      "Epoch 85/91\n",
      "720/720 [==============================] - 1s 2ms/step - loss: 0.0484 - acc: 0.9861 - val_loss: 0.2110 - val_acc: 0.9250\n",
      "Epoch 86/91\n",
      "720/720 [==============================] - 1s 2ms/step - loss: 0.0458 - acc: 0.9875 - val_loss: 0.2359 - val_acc: 0.9125\n",
      "Epoch 87/91\n",
      "720/720 [==============================] - 1s 2ms/step - loss: 0.0436 - acc: 0.9819 - val_loss: 0.2233 - val_acc: 0.9125\n",
      "Epoch 88/91\n",
      "720/720 [==============================] - 1s 2ms/step - loss: 0.0444 - acc: 0.9833 - val_loss: 0.2749 - val_acc: 0.9000\n",
      "Epoch 89/91\n",
      "720/720 [==============================] - 1s 2ms/step - loss: 0.0450 - acc: 0.9847 - val_loss: 0.3017 - val_acc: 0.8875\n",
      "Epoch 90/91\n",
      "720/720 [==============================] - 1s 2ms/step - loss: 0.0529 - acc: 0.9819 - val_loss: 0.2158 - val_acc: 0.9125\n",
      "Epoch 91/91\n",
      "720/720 [==============================] - 1s 2ms/step - loss: 0.0543 - acc: 0.9806 - val_loss: 0.2627 - val_acc: 0.9125\n"
     ]
    },
    {
     "data": {
      "text/plain": [
       "<keras.callbacks.History at 0x7fd15f729dd8>"
      ]
     },
     "execution_count": 36,
     "metadata": {},
     "output_type": "execute_result"
    }
   ],
   "source": [
    "model.fit(train_data, Y_train, batch_size=batch_size, epochs=num_epochs, verbose=1, validation_split=0.1)"
   ]
  },
  {
   "cell_type": "code",
   "execution_count": 37,
   "metadata": {},
   "outputs": [
    {
     "name": "stdout",
     "output_type": "stream",
     "text": [
      "200/200 [==============================] - 0s 931us/step\n"
     ]
    },
    {
     "data": {
      "text/plain": [
       "[0.40107868909835814, 0.89]"
      ]
     },
     "execution_count": 37,
     "metadata": {},
     "output_type": "execute_result"
    }
   ],
   "source": [
    "model.evaluate(test_data, Y_test, verbose=1)"
   ]
  }
 ],
 "metadata": {
  "kernelspec": {
   "display_name": "Python 3",
   "language": "python",
   "name": "python3"
  },
  "language_info": {
   "codemirror_mode": {
    "name": "ipython",
    "version": 3
   },
   "file_extension": ".py",
   "mimetype": "text/x-python",
   "name": "python",
   "nbconvert_exporter": "python",
   "pygments_lexer": "ipython3",
   "version": "3.6.5"
  }
 },
 "nbformat": 4,
 "nbformat_minor": 1
}
